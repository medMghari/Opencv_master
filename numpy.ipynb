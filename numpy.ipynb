{
  "nbformat": 4,
  "nbformat_minor": 0,
  "metadata": {
    "colab": {
      "name": "numpy.ipynb",
      "provenance": []
    },
    "kernelspec": {
      "display_name": "Python 3",
      "language": "python",
      "name": "python3"
    },
    "language_info": {
      "codemirror_mode": {
        "name": "ipython",
        "version": 3
      },
      "file_extension": ".py",
      "mimetype": "text/x-python",
      "name": "python",
      "nbconvert_exporter": "python",
      "pygments_lexer": "ipython3",
      "version": "3.6.2"
    },
    "nbclean": true
  },
  "cells": [
    {
      "cell_type": "markdown",
      "metadata": {
        "id": "zWHRQjFhRYkU"
      },
      "source": [
        "## NumPy"
      ]
    },
    {
      "cell_type": "markdown",
      "metadata": {
        "id": "-O-XDWs0QYdt"
      },
      "source": [
        "NumPy est le package fondamental pour le calcul scientifique en Python. Il s'agit d'une bibliothèque Python qui fournit un objet de tableau multidimensionnel, tels que des vecteurs et des matrices, et une Variété de procédures pour des opérations matricielles rapides, y compris des opérations mathématiques, logiques, de forme, de tri, de sélection, d'E / S , transformées de Fourier discrètes, algèbre linéaire de base, opérations statistiques de base, simulation aléatoire et bien plus encore.\n",
        "\n",
        "Les trois principales fonctionnalités de NumPy sont: ses fonctions mathématiques (par exemple `sin`,` log`, `floor`), son sous-module` random` (utile pour l'échantillonnage aléatoire) et l'objet NumPy `ndarray`.\n",
        "\n",
        "Un tableau NumPy est similaire à une matrice mathématique à n dimensions. Par exemple,\n",
        "\n",
        "$$\\begin{bmatrix}\n",
        "    x_{11} & x_{12} & x_{13} & \\dots  & x_{1n} \\\\\n",
        "    x_{21} & x_{22} & x_{23} & \\dots  & x_{2n} \\\\\n",
        "    \\vdots & \\vdots & \\vdots & \\ddots & \\vdots \\\\\n",
        "    x_{d1} & x_{d2} & x_{d3} & \\dots  & x_{dn}\n",
        "\\end{bmatrix}$$\n",
        "\n",
        "\n",
        "Un tableau NumPy peut être unidimensionnel (par exemple [1, 5, 20, 34, ...]), bidimensionnel (comme ci-dessus) ou plusieurs dimensions (image coleur). Il est important de noter que toutes les lignes et colonnes du tableau à 2 dimensions ont la même longueur. Ceci est vrai pour toutes les dimensions des tableaux."
      ]
    },
    {
      "cell_type": "code",
      "metadata": {
        "id": "XWgk7Y1tQYdu"
      },
      "source": [
        "# On doit importer numpy pour pouvoir l'utiliser\n",
        "import numpy as np"
      ],
      "execution_count": 91,
      "outputs": []
    },
    {
      "cell_type": "code",
      "metadata": {
        "colab": {
          "base_uri": "https://localhost:8080/"
        },
        "id": "7g_9dakCQYdx",
        "outputId": "8317ec8d-7d12-4ed1-c9be-bb7fef8dc31b"
      },
      "source": [
        "list_de_lists_1 = [[1, 2, 3], [4, 5, 6], [7, 8, 9]]\n",
        "print(list_de_lists_1)"
      ],
      "execution_count": 92,
      "outputs": [
        {
          "output_type": "stream",
          "text": [
            "[[1, 2, 3], [4, 5, 6], [7, 8, 9]]\n"
          ],
          "name": "stdout"
        }
      ]
    },
    {
      "cell_type": "code",
      "metadata": {
        "colab": {
          "base_uri": "https://localhost:8080/"
        },
        "id": "PZ1KE_04QYdx",
        "outputId": "ad359eb8-bf79-490d-bade-b5bddad690a9"
      },
      "source": [
        "rectangulaire = np.array(list_de_lists_1)\n",
        "print(rectangulaire)"
      ],
      "execution_count": 93,
      "outputs": [
        {
          "output_type": "stream",
          "text": [
            "[[1 2 3]\n",
            " [4 5 6]\n",
            " [7 8 9]]\n"
          ],
          "name": "stdout"
        }
      ]
    },
    {
      "cell_type": "code",
      "metadata": {
        "id": "NqOgu9ghQYdy",
        "colab": {
          "base_uri": "https://localhost:8080/"
        },
        "outputId": "efe9f285-0b44-470a-895c-326e35d78d2e"
      },
      "source": [
        "list_de_lists_2 = [[1, 2], [3, 4, 5], [6, 7, 8, 9]]\n",
        "print(list_de_lists_2)"
      ],
      "execution_count": 94,
      "outputs": [
        {
          "output_type": "stream",
          "text": [
            "[[1, 2], [3, 4, 5], [6, 7, 8, 9]]\n"
          ],
          "name": "stdout"
        }
      ]
    },
    {
      "cell_type": "code",
      "metadata": {
        "id": "dk1v8XieQYdz",
        "colab": {
          "base_uri": "https://localhost:8080/"
        },
        "outputId": "8708fc8f-1246-46f5-906a-8f5971b44268"
      },
      "source": [
        "non_rectangulaire = np.array(non_rectangulaire)\n",
        "print(non_rectangulaire)"
      ],
      "execution_count": 95,
      "outputs": [
        {
          "output_type": "stream",
          "text": [
            "[list([1, 2]) list([3, 4, 5]) list([6, 7, 8, 9])]\n"
          ],
          "name": "stdout"
        }
      ]
    },
    {
      "cell_type": "markdown",
      "metadata": {
        "id": "v4u5EV5GQYd0"
      },
      "source": [
        "Pourquoi sont-ils affichés différemment? \n",
        "\n",
        "Examinons leur _shape_ et _data type_ (`dtype`)."
      ]
    },
    {
      "cell_type": "code",
      "metadata": {
        "colab": {
          "base_uri": "https://localhost:8080/"
        },
        "id": "UPGG7JL_QYd1",
        "outputId": "b3458967-7667-47c4-fa62-df3a84f53f29"
      },
      "source": [
        "print(rectangulaire.shape, rectangulaire.dtype)\n",
        "print(non_rectangulaire.shape, non_rectangulaire.dtype)"
      ],
      "execution_count": 96,
      "outputs": [
        {
          "output_type": "stream",
          "text": [
            "(3, 3) int64\n",
            "(3,) object\n"
          ],
          "name": "stdout"
        }
      ]
    },
    {
      "cell_type": "markdown",
      "metadata": {
        "id": "ekd2HK4dQYd2"
      },
      "source": [
        "Le premier cas, `rectangulaire` est un tableau 3x3 bidimensionnel (d'entiers). En revanche, `non_rectangulaire` est un tableau de longueur 3 à 1 dimension (de _objects_, à savoir des objets `list`).\n",
        "\n",
        "Nous pouvons également créer une variété de tableaux avec les fonctions pratiques de NumPy."
      ]
    },
    {
      "cell_type": "code",
      "metadata": {
        "colab": {
          "base_uri": "https://localhost:8080/"
        },
        "id": "Eo0mX77WQYd3",
        "outputId": "f2a1a770-e729-406c-f15e-82ebb914f86e"
      },
      "source": [
        "np.linspace(1, 10, 10)"
      ],
      "execution_count": 97,
      "outputs": [
        {
          "output_type": "execute_result",
          "data": {
            "text/plain": [
              "array([ 1.,  2.,  3.,  4.,  5.,  6.,  7.,  8.,  9., 10.])"
            ]
          },
          "metadata": {
            "tags": []
          },
          "execution_count": 97
        }
      ]
    },
    {
      "cell_type": "code",
      "metadata": {
        "colab": {
          "base_uri": "https://localhost:8080/"
        },
        "id": "8PuFc5pHQYd3",
        "outputId": "99cb5d37-ad92-4cb8-8a2c-86685aac1cbe"
      },
      "source": [
        "np.arange(1, 10, 1)"
      ],
      "execution_count": 98,
      "outputs": [
        {
          "output_type": "execute_result",
          "data": {
            "text/plain": [
              "array([1, 2, 3, 4, 5, 6, 7, 8, 9])"
            ]
          },
          "metadata": {
            "tags": []
          },
          "execution_count": 98
        }
      ]
    },
    {
      "cell_type": "code",
      "metadata": {
        "colab": {
          "base_uri": "https://localhost:8080/"
        },
        "id": "r5p3UHnXQYd4",
        "outputId": "bafdd37c-9589-4909-f191-500eab71b512"
      },
      "source": [
        "np.zeros(10)"
      ],
      "execution_count": 99,
      "outputs": [
        {
          "output_type": "execute_result",
          "data": {
            "text/plain": [
              "array([0., 0., 0., 0., 0., 0., 0., 0., 0., 0.])"
            ]
          },
          "metadata": {
            "tags": []
          },
          "execution_count": 99
        }
      ]
    },
    {
      "cell_type": "code",
      "metadata": {
        "colab": {
          "base_uri": "https://localhost:8080/"
        },
        "id": "wVw2DcvEQYd5",
        "outputId": "f175f671-24c1-41e3-c3b0-140db6687d93"
      },
      "source": [
        "np.diag([1,2,3,4])"
      ],
      "execution_count": 100,
      "outputs": [
        {
          "output_type": "execute_result",
          "data": {
            "text/plain": [
              "array([[1, 0, 0, 0],\n",
              "       [0, 2, 0, 0],\n",
              "       [0, 0, 3, 0],\n",
              "       [0, 0, 0, 4]])"
            ]
          },
          "metadata": {
            "tags": []
          },
          "execution_count": 100
        }
      ]
    },
    {
      "cell_type": "code",
      "metadata": {
        "colab": {
          "base_uri": "https://localhost:8080/"
        },
        "id": "vJ8kxSLMQYd5",
        "outputId": "abaef5be-afbd-4b70-c164-ca91ab00887e"
      },
      "source": [
        "np.eye(5)"
      ],
      "execution_count": 101,
      "outputs": [
        {
          "output_type": "execute_result",
          "data": {
            "text/plain": [
              "array([[1., 0., 0., 0., 0.],\n",
              "       [0., 1., 0., 0., 0.],\n",
              "       [0., 0., 1., 0., 0.],\n",
              "       [0., 0., 0., 1., 0.],\n",
              "       [0., 0., 0., 0., 1.]])"
            ]
          },
          "metadata": {
            "tags": []
          },
          "execution_count": 101
        }
      ]
    },
    {
      "cell_type": "markdown",
      "metadata": {
        "id": "BchoYlwhQYd5"
      },
      "source": [
        "Nous pouvons également convertir le `dtype` d'un tableau après sa création."
      ]
    },
    {
      "cell_type": "code",
      "metadata": {
        "colab": {
          "base_uri": "https://localhost:8080/"
        },
        "id": "pHSw3hVrQYd6",
        "outputId": "c9c9bd0a-b0d0-4329-9720-d20fd7da1c28"
      },
      "source": [
        "print(np.linspace(1, 10, 10).dtype)\n",
        "print(np.linspace(1, 10, 10).astype(int).dtype)"
      ],
      "execution_count": 102,
      "outputs": [
        {
          "output_type": "stream",
          "text": [
            "float64\n",
            "int64\n"
          ],
          "name": "stdout"
        }
      ]
    },
    {
      "cell_type": "markdown",
      "metadata": {
        "id": "4J8O8XHfQYd6"
      },
      "source": [
        "Pourquoi tout cela est-il important?\n",
        "\n",
        "Les tableaux sont souvent plus efficaces en termes de code et de ressources pour certains calculs.\n",
        "\n",
        "Pour explorer les avantages du code, essayons de faire des calculs sur ces nombres.\n",
        "Tout d'abord, calculons la somme de tous les nombres et regardons les différences dans le code nécessaire pour `list_de_lists_1`, `rectangulaire` et `rectangulaire`."
      ]
    },
    {
      "cell_type": "code",
      "metadata": {
        "colab": {
          "base_uri": "https://localhost:8080/"
        },
        "id": "8RAThTZzQYd7",
        "outputId": "85b973d6-b96a-4b55-ce47-fd9cd038a13a"
      },
      "source": [
        "print(sum([sum(liste_interne) for liste_interne in list_de_lists_1]))\n",
        "print(rectangulaire.sum())"
      ],
      "execution_count": 103,
      "outputs": [
        {
          "output_type": "stream",
          "text": [
            "45\n",
            "45\n"
          ],
          "name": "stdout"
        }
      ]
    },
    {
      "cell_type": "markdown",
      "metadata": {
        "id": "oHEotpTtQYd7"
      },
      "source": [
        "La somme des nombres dans un tableau est beaucoup plus facile par rapport à une liste de listes. Nous n'avons pas à creuser dans une hiérarchie de listes, nous utilisons simplement la méthode `sum` de `rectangulaire`. Cela fonctionne-t-il toujours pour `non_rectangulaire`?"
      ]
    },
    {
      "cell_type": "code",
      "metadata": {
        "colab": {
          "base_uri": "https://localhost:8080/"
        },
        "id": "qW8FXV3dQYd8",
        "outputId": "66a9d282-dd06-40f2-d399-94e18bd00898"
      },
      "source": [
        "print(non_rectangulaire.sum())"
      ],
      "execution_count": 104,
      "outputs": [
        {
          "output_type": "stream",
          "text": [
            "[1, 2, 3, 4, 5, 6, 7, 8, 9]\n"
          ],
          "name": "stdout"
        }
      ]
    },
    {
      "cell_type": "markdown",
      "metadata": {
        "id": "bmkQUBcfQYd8"
      },
      "source": [
        "On doit ce rappeler que `non_rectangulaire` est un tableau à une dimension d'objets `list`. La méthode `sum` essaie de les additionner: première liste + deuxième liste + troisième liste. L'ajout de listes entraîne la _concaténation_."
      ]
    },
    {
      "cell_type": "code",
      "metadata": {
        "colab": {
          "base_uri": "https://localhost:8080/"
        },
        "id": "0lFxptxzQYd9",
        "outputId": "76684189-eaba-47f9-847f-a637c2a0cf64"
      },
      "source": [
        "# concaténation des trois listes\n",
        "print([1, 2] + [3, 4, 5] + [6, 7, 8, 9])"
      ],
      "execution_count": 105,
      "outputs": [
        {
          "output_type": "stream",
          "text": [
            "[1, 2, 3, 4, 5, 6, 7, 8, 9]\n"
          ],
          "name": "stdout"
        }
      ]
    },
    {
      "cell_type": "markdown",
      "metadata": {
        "id": "AXAxK6T7QYd9"
      },
      "source": [
        "Ceci devient encore plus clair lorsque nous essayons de faire la somme des lignes ou des colonnes individuellement."
      ]
    },
    {
      "cell_type": "code",
      "metadata": {
        "colab": {
          "base_uri": "https://localhost:8080/"
        },
        "id": "XFGDMIVxQYd-",
        "outputId": "512495ac-8f97-4198-89ad-45656ed24101"
      },
      "source": [
        "print('Sommes sur les lignes: ', rectangulaire.sum(axis=1))\n",
        "print('Sommes sur les colonnes: ', rectangulaire.sum(axis=0))"
      ],
      "execution_count": 106,
      "outputs": [
        {
          "output_type": "stream",
          "text": [
            "Sommes sur les lignes:  [ 6 15 24]\n",
            "Sommes sur les colonnes:  [12 15 18]\n"
          ],
          "name": "stdout"
        }
      ]
    },
    {
      "cell_type": "markdown",
      "metadata": {
        "id": "A41sA3o0QYd_"
      },
      "source": [
        "En général, il est beaucoup plus naturel de faire des opérations mathématiques avec des tableaux qu'avec des listes."
      ]
    },
    {
      "cell_type": "code",
      "metadata": {
        "id": "ejqi3SGRQYd_",
        "colab": {
          "base_uri": "https://localhost:8080/"
        },
        "outputId": "cd5855c9-d6b4-4897-e62f-fa92006ca2a0"
      },
      "source": [
        "a = np.array([1, 2, 3, 4, 5])\n",
        "print(a + 5) # ajouter un scalaire\n",
        "print(a * 5) # multiplier par un scalaire\n",
        "print(a / 5) # diviser par un scalaire (notez le float!)"
      ],
      "execution_count": 107,
      "outputs": [
        {
          "output_type": "stream",
          "text": [
            "[ 6  7  8  9 10]\n",
            "[ 5 10 15 20 25]\n",
            "[0.2 0.4 0.6 0.8 1. ]\n"
          ],
          "name": "stdout"
        }
      ]
    },
    {
      "cell_type": "code",
      "metadata": {
        "id": "bjYwO-0OQYeA",
        "colab": {
          "base_uri": "https://localhost:8080/"
        },
        "outputId": "4e3dc42c-693c-4aaf-cc57-a547fd95342e"
      },
      "source": [
        "b = a + 1\n",
        "print(a + b) # somme de deux tableaux\n",
        "print(a * b) # multiplier deux tableaux (élément par élément)\n",
        "print(a / b.astype(float)) # division de deux tableux (élément par élément)"
      ],
      "execution_count": 108,
      "outputs": [
        {
          "output_type": "stream",
          "text": [
            "[ 3  5  7  9 11]\n",
            "[ 2  6 12 20 30]\n",
            "[0.5        0.66666667 0.75       0.8        0.83333333]\n"
          ],
          "name": "stdout"
        }
      ]
    },
    {
      "cell_type": "markdown",
      "metadata": {
        "id": "HkrtmUnkQYeB"
      },
      "source": [
        "Les tableaux peuvent également être utilisés pour l'algèbre linéaire, agissant comme des vecteurs, des matrices, des tensors, etc."
      ]
    },
    {
      "cell_type": "code",
      "metadata": {
        "id": "boApVDWSQYeB",
        "colab": {
          "base_uri": "https://localhost:8080/"
        },
        "outputId": "d3d374ca-3bf5-4c9a-baea-b8ff58637101"
      },
      "source": [
        "print(np.dot(a, b)) # produit interne de deux tableaux\n",
        "print(np.outer(a, b)) # produit externe de deux tableaux"
      ],
      "execution_count": 109,
      "outputs": [
        {
          "output_type": "stream",
          "text": [
            "70\n",
            "[[ 2  3  4  5  6]\n",
            " [ 4  6  8 10 12]\n",
            " [ 6  9 12 15 18]\n",
            " [ 8 12 16 20 24]\n",
            " [10 15 20 25 30]]\n"
          ],
          "name": "stdout"
        }
      ]
    },
    {
      "cell_type": "markdown",
      "metadata": {
        "id": "_1Jw9L00QYeC"
      },
      "source": [
        "Les tableaux ont beaucoup à nous offrir en termes de représentation et d'analyse des données, car nous pouvons facilement appliquer des fonctions mathématiques à des ensembles de données ou à des sections d'ensembles de données. La plupart du temps, nous n'aurons aucun problème à utiliser les tableaux, mais il est bon de garder à l'esprit les restrictions concernant la forme et le type de données.\n",
        "\n",
        "Ces restrictions autour de `shape` et `dtype` permettent aux objets `ndarray` d'être beaucoup plus performants par rapport à une `list` Python générale. Cela permet un stockage mémoire contigu et une recherche de fonction cohérente. Lorsqu'une `liste` Python est additionnée, Python doit déterminer au moment de l'exécution la manière correcte d'ajouter chaque élément de la liste ensemble. Lorsqu'un `ndarray` est additionné,`NumPy` connaît déjà le type de chaque élément (et ils sont cohérents), ainsi il peut les additionner sans vérifier la fonction d'ajout correcte pour chaque élément.\n",
        "\n",
        "Voyons cela en action. Nous allons d'abord créer une liste de 100000 éléments aléatoires, puis chronométrer la fonction de `sum`."
      ]
    },
    {
      "cell_type": "code",
      "metadata": {
        "id": "LS146cOKQYeD"
      },
      "source": [
        "time_list = [np.random.random() for _ in range(100000)]\n",
        "time_arr = np.array(time_list)"
      ],
      "execution_count": 110,
      "outputs": []
    },
    {
      "cell_type": "code",
      "metadata": {
        "id": "_sSZxqwIQYeE",
        "colab": {
          "base_uri": "https://localhost:8080/"
        },
        "outputId": "ae82b237-79b3-4f33-beb6-57c627807717"
      },
      "source": [
        "%%timeit \n",
        "sum(time_list)"
      ],
      "execution_count": 111,
      "outputs": [
        {
          "output_type": "stream",
          "text": [
            "1000 loops, best of 3: 463 µs per loop\n"
          ],
          "name": "stdout"
        }
      ]
    },
    {
      "cell_type": "code",
      "metadata": {
        "id": "c0Pvz260QYeE",
        "colab": {
          "base_uri": "https://localhost:8080/"
        },
        "outputId": "5aca63ff-3cd2-4638-8182-49cd7e6474c9"
      },
      "source": [
        "%%timeit\n",
        "np.sum(time_arr)"
      ],
      "execution_count": 112,
      "outputs": [
        {
          "output_type": "stream",
          "text": [
            "The slowest run took 5.76 times longer than the fastest. This could mean that an intermediate result is being cached.\n",
            "10000 loops, best of 3: 39 µs per loop\n"
          ],
          "name": "stdout"
        }
      ]
    },
    {
      "cell_type": "markdown",
      "metadata": {
        "id": "qlIJOfgZQYeE"
      },
      "source": [
        "### Fonctions universelles\n",
        "\n",
        "`NumPy` définit un` ufunc` qui lui permet d'exécuter efficacement des fonctions sur des tableaux. Beaucoup de ces fonctions sont intégrées, telles que `np.cos`, et implémentées dans du code `C` compilé hautement performant. Ces fonctions peuvent effectuer une `broadcasting` qui leur permet de gérer automatiquement des opérations entre des tableaux de formes différentes, par exemple deux tableaux de même forme, ou un tableau et un scalaire."
      ]
    },
    {
      "cell_type": "markdown",
      "metadata": {
        "id": "jX6OCn3eQYeF"
      },
      "source": [
        "### Changer de forme (Shape)"
      ]
    },
    {
      "cell_type": "markdown",
      "metadata": {
        "id": "avXEFHCdLo6F"
      },
      "source": [
        "Souvent, on a des tableaux qui ont une forme et on veut les transformer en une forme différente plus adaptée à une opération spécifique."
      ]
    },
    {
      "cell_type": "code",
      "metadata": {
        "id": "cQ7XlzC5QYeF",
        "colab": {
          "base_uri": "https://localhost:8080/"
        },
        "outputId": "92f7f098-3162-4183-a3ab-0dafddc4201b"
      },
      "source": [
        "mat = np.array([[1, 2, 3, 0],\n",
        "                [4, 5, 6, 1],\n",
        "                [7, 8, 9, 2]])\n",
        "mat.shape"
      ],
      "execution_count": 113,
      "outputs": [
        {
          "output_type": "execute_result",
          "data": {
            "text/plain": [
              "(3, 4)"
            ]
          },
          "metadata": {
            "tags": []
          },
          "execution_count": 113
        }
      ]
    },
    {
      "cell_type": "code",
      "metadata": {
        "id": "Yf2HGHdhQYeG",
        "colab": {
          "base_uri": "https://localhost:8080/"
        },
        "outputId": "ced53f7c-5ec4-438c-fe47-a60594386145"
      },
      "source": [
        "mat.reshape(6, 2).shape"
      ],
      "execution_count": 114,
      "outputs": [
        {
          "output_type": "execute_result",
          "data": {
            "text/plain": [
              "(6, 2)"
            ]
          },
          "metadata": {
            "tags": []
          },
          "execution_count": 114
        }
      ]
    },
    {
      "cell_type": "code",
      "metadata": {
        "id": "h8dJoCq1QYeG",
        "colab": {
          "base_uri": "https://localhost:8080/",
          "height": 172
        },
        "outputId": "f18431fa-35ef-4061-d0be-436fd521a72b"
      },
      "source": [
        "mat.reshape(4, 5)"
      ],
      "execution_count": 115,
      "outputs": [
        {
          "output_type": "error",
          "ename": "ValueError",
          "evalue": "ignored",
          "traceback": [
            "\u001b[0;31m---------------------------------------------------------------------------\u001b[0m",
            "\u001b[0;31mValueError\u001b[0m                                Traceback (most recent call last)",
            "\u001b[0;32m<ipython-input-115-4c441344502f>\u001b[0m in \u001b[0;36m<module>\u001b[0;34m()\u001b[0m\n\u001b[0;32m----> 1\u001b[0;31m \u001b[0mmat\u001b[0m\u001b[0;34m.\u001b[0m\u001b[0mreshape\u001b[0m\u001b[0;34m(\u001b[0m\u001b[0;36m4\u001b[0m\u001b[0;34m,\u001b[0m \u001b[0;36m5\u001b[0m\u001b[0;34m)\u001b[0m\u001b[0;34m\u001b[0m\u001b[0;34m\u001b[0m\u001b[0m\n\u001b[0m",
            "\u001b[0;31mValueError\u001b[0m: cannot reshape array of size 12 into shape (4,5)"
          ]
        }
      ]
    },
    {
      "cell_type": "code",
      "metadata": {
        "id": "cmoSMGlBQYeH",
        "colab": {
          "base_uri": "https://localhost:8080/"
        },
        "outputId": "ef700d83-0cc5-48b0-d4d1-3741e1cce33f"
      },
      "source": [
        "mat.ravel().shape"
      ],
      "execution_count": 116,
      "outputs": [
        {
          "output_type": "execute_result",
          "data": {
            "text/plain": [
              "(12,)"
            ]
          },
          "metadata": {
            "tags": []
          },
          "execution_count": 116
        }
      ]
    },
    {
      "cell_type": "code",
      "metadata": {
        "id": "B1kS4It4QYeH",
        "colab": {
          "base_uri": "https://localhost:8080/"
        },
        "outputId": "f0aa261a-9973-408e-c26e-fee5881192a1"
      },
      "source": [
        "mat.transpose().shape"
      ],
      "execution_count": 117,
      "outputs": [
        {
          "output_type": "execute_result",
          "data": {
            "text/plain": [
              "(4, 3)"
            ]
          },
          "metadata": {
            "tags": []
          },
          "execution_count": 117
        }
      ]
    },
    {
      "cell_type": "code",
      "metadata": {
        "colab": {
          "base_uri": "https://localhost:8080/"
        },
        "id": "44GzzD-dPMlc",
        "outputId": "4119cb45-de1c-448b-f4b9-d6df94bd3665"
      },
      "source": [
        "mat.reshape(-1,6).shape"
      ],
      "execution_count": 118,
      "outputs": [
        {
          "output_type": "execute_result",
          "data": {
            "text/plain": [
              "(2, 6)"
            ]
          },
          "metadata": {
            "tags": []
          },
          "execution_count": 118
        }
      ]
    },
    {
      "cell_type": "markdown",
      "metadata": {
        "id": "OoZMQzdoQYeH"
      },
      "source": [
        "### Combinaison de tableaux (Arrays)"
      ]
    },
    {
      "cell_type": "code",
      "metadata": {
        "id": "ItOMunj0QYeI",
        "colab": {
          "base_uri": "https://localhost:8080/"
        },
        "outputId": "0be3414a-1dff-4bad-e43f-5a7731c935a6"
      },
      "source": [
        "a = np.array([1, 2, 3, 4, 5])\n",
        "b = a + 2\n",
        "print(a, b)"
      ],
      "execution_count": 119,
      "outputs": [
        {
          "output_type": "stream",
          "text": [
            "[1 2 3 4 5] [3 4 5 6 7]\n"
          ],
          "name": "stdout"
        }
      ]
    },
    {
      "cell_type": "code",
      "metadata": {
        "id": "2WvaGGawQYeI",
        "colab": {
          "base_uri": "https://localhost:8080/"
        },
        "outputId": "2cb88c95-f339-4935-d744-acfa94106c0d"
      },
      "source": [
        "np.hstack((a, b))"
      ],
      "execution_count": 120,
      "outputs": [
        {
          "output_type": "execute_result",
          "data": {
            "text/plain": [
              "array([1, 2, 3, 4, 5, 3, 4, 5, 6, 7])"
            ]
          },
          "metadata": {
            "tags": []
          },
          "execution_count": 120
        }
      ]
    },
    {
      "cell_type": "code",
      "metadata": {
        "id": "OS4punupQYeI",
        "colab": {
          "base_uri": "https://localhost:8080/"
        },
        "outputId": "d3a397b6-986d-4a17-f6c2-a7cb84a9c0e2"
      },
      "source": [
        "np.vstack((a, b))"
      ],
      "execution_count": 121,
      "outputs": [
        {
          "output_type": "execute_result",
          "data": {
            "text/plain": [
              "array([[1, 2, 3, 4, 5],\n",
              "       [3, 4, 5, 6, 7]])"
            ]
          },
          "metadata": {
            "tags": []
          },
          "execution_count": 121
        }
      ]
    },
    {
      "cell_type": "markdown",
      "metadata": {
        "id": "cMuFziwNQYeJ"
      },
      "source": [
        "### Agrégation de données de base"
      ]
    },
    {
      "cell_type": "markdown",
      "metadata": {
        "id": "3bdg6uO5SkWA"
      },
      "source": [
        "Explorons d'autres exemples d'utilisation de tableaux, cette fois en utilisant le sous-module `random` de NumPy pour créer des __fausses données__. La simulation de données est utile pour tester et prototyper de nouvelles techniques ou de nouveaux codes, et certains algorithmes nécessitent même une entrée aléatoire."
      ]
    },
    {
      "cell_type": "code",
      "metadata": {
        "id": "VBeYyxsFQYeK",
        "colab": {
          "base_uri": "https://localhost:8080/"
        },
        "outputId": "8cfa4515-7a9f-41ca-d21b-34458f06f44a"
      },
      "source": [
        "np.random.seed(42)\n",
        "caffe_vente_avril = np.random.randint(25, 200, size=(4, 7))\n",
        "print(caffe_vente_avril)"
      ],
      "execution_count": 122,
      "outputs": [
        {
          "output_type": "stream",
          "text": [
            "[[127 117  39 131  96  45 127]\n",
            " [146  99 112 141 124 128 176]\n",
            " [155 174  77  26 112 182  62]\n",
            " [154  45 185  82  46 113  73]]\n"
          ],
          "name": "stdout"
        }
      ]
    },
    {
      "cell_type": "code",
      "metadata": {
        "id": "7e1JQ6wwQYeK",
        "colab": {
          "base_uri": "https://localhost:8080/"
        },
        "outputId": "93267695-e8e9-4db2-8347-8cd574561c3c"
      },
      "source": [
        "# Moyenne des ventes\n",
        "print('le nombre moyen de cafés vendus en avril: %d' % caffe_vente_avril.mean())"
      ],
      "execution_count": 123,
      "outputs": [
        {
          "output_type": "stream",
          "text": [
            "le nombre moyen de cafés vendus en avril: 110\n"
          ],
          "name": "stdout"
        }
      ]
    },
    {
      "cell_type": "code",
      "metadata": {
        "id": "234B8aqgQYeK",
        "colab": {
          "base_uri": "https://localhost:8080/"
        },
        "outputId": "ef33b52f-3878-4a85-c0b7-5cf4a9c7ece5"
      },
      "source": [
        "# Moyenne des ventes aux lundis\n",
        "print('le nombre moyen de cafés vendus le lundi: %d' % caffe_vente_avril[:, 1].mean())"
      ],
      "execution_count": 124,
      "outputs": [
        {
          "output_type": "stream",
          "text": [
            "le nombre moyen de cafés vendus le lundi: 108\n"
          ],
          "name": "stdout"
        }
      ]
    },
    {
      "cell_type": "code",
      "metadata": {
        "id": "JsYd2YcgQYeL",
        "colab": {
          "base_uri": "https://localhost:8080/"
        },
        "outputId": "332843d0-1fec-414a-c134-9b8900213069"
      },
      "source": [
        "# jour avec le plus de ventes\n",
        "print('Le jour avec les ventes les plus élevées est: %d' % (caffe_vente_avril.argmax() + 1))"
      ],
      "execution_count": 125,
      "outputs": [
        {
          "output_type": "stream",
          "text": [
            "Le jour avec les ventes les plus élevées est: 24\n"
          ],
          "name": "stdout"
        }
      ]
    },
    {
      "cell_type": "markdown",
      "metadata": {
        "id": "0pOXmpZ7QYeN"
      },
      "source": [
        "Certaines des fonctions que nous avons utilisées ci-dessus n'existent pas en Python standard et nous sont fournies par NumPy. De plus, nous voyons que nous pouvons utiliser la forme d'un tableau pour nous aider à calculer des statistiques sur un sous-ensemble de nos données (par exemple, le nombre moyen de cafés vendus le lundi)."
      ]
    }
  ]
}