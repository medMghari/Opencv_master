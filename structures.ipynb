{
  "nbformat": 4,
  "nbformat_minor": 0,
  "metadata": {
    "kernelspec": {
      "display_name": "Python 3",
      "language": "python",
      "name": "python3"
    },
    "language_info": {
      "codemirror_mode": {
        "name": "ipython",
        "version": 3
      },
      "file_extension": ".py",
      "mimetype": "text/x-python",
      "name": "python",
      "nbconvert_exporter": "python",
      "pygments_lexer": "ipython3",
      "version": "3.6.2"
    },
    "nbclean": true,
    "colab": {
      "name": "structures.ipynb",
      "provenance": [],
      "collapsed_sections": [
        "X_EThnFiTA5x",
        "qX0tsjWxTA50",
        "dCfKmDYPTA6L",
        "SotN94hKTA6P",
        "HdrNlsQoTA6Q",
        "FRUnQEecTA6f",
        "ds49wijnTA6h",
        "WlCr0Y3HTA6l",
        "bIVt7s-ATA6m",
        "1tQPbiX2TA6o",
        "cvlaNUcTTA6r",
        "g56bjT0NTA6u",
        "XHGL0WeSTA6x",
        "o_09hTJdTA6z",
        "W2qSCncITA63",
        "M8hHrN1aTA64"
      ]
    }
  },
  "cells": [
    {
      "cell_type": "markdown",
      "metadata": {
        "id": "DBNa81K5TA31"
      },
      "source": [
        "# Structures de données"
      ]
    },
    {
      "cell_type": "markdown",
      "metadata": {
        "id": "2j_dvH_YnRvD"
      },
      "source": [
        "## Introduction"
      ]
    },
    {
      "cell_type": "markdown",
      "metadata": {
        "id": "5GOuyALSUeu7"
      },
      "source": [
        "Dans `fondamentals.ipynb`, nous avons introduit l'idée de variables, que nous pourrions utiliser pour stocker plusieurs types d'informations. Nous pourrions stocker du texte, des nombres ou des valeurs de vérité. Ces différents types d'informations correspondent à différents types de données en python."
      ]
    },
    {
      "cell_type": "code",
      "metadata": {
        "id": "GeXZcuGJTA4Z"
      },
      "source": [
        "print(type('du text'))\n",
        "print(type(10))\n",
        "print(type(10.3))\n",
        "print(type(True))"
      ],
      "execution_count": null,
      "outputs": []
    },
    {
      "cell_type": "markdown",
      "metadata": {
        "id": "xNVcI6qCTA4a"
      },
      "source": [
        "Nous avons également brièvement présenté la `list`, qui peut être utilisée pour stocker une collection de données."
      ]
    },
    {
      "cell_type": "markdown",
      "metadata": {
        "id": "rHno6dteTA4d"
      },
      "source": [
        "Parfois, on stock des données dans des variables individuelles, mais souvent on travaille avec plusieurs informations qu'on souhaite regrouper en raison de leur relation. Par exemple, si on achete des produits dans une épicerie, on peut stocker chaque article que nous allons acheter dans des variables séparées ou nous pourrions stocker tous les articles dans une liste."
      ]
    },
    {
      "cell_type": "code",
      "metadata": {
        "id": "cullSXlKTA4f"
      },
      "source": [
        "article_a = 'pomme'\n",
        "article_b = 'oignons'\n",
        "article_c = 'riz'\n",
        "article_d = 'poisson'\n",
        "article_e = 'lait'\n",
        "\n",
        "article_list = ['pomme', 'oignons', 'riz', 'poisson', 'lait']"
      ],
      "execution_count": null,
      "outputs": []
    },
    {
      "cell_type": "markdown",
      "metadata": {
        "id": "_wFRLx13TA4h"
      },
      "source": [
        "Laquelle de ces approches vous semble la plus utile? \n",
        "\n",
        "Écrivons une fonction `achat` pour effectuer l'achat des articles dont nous avons besoin."
      ]
    },
    {
      "cell_type": "code",
      "metadata": {
        "id": "IqhS0KPlTA4i"
      },
      "source": [
        "def achat_article_individuel(item_a, item_b, item_c, item_d, item_e):\n",
        "    print('Achat {}...'.format(item_a))\n",
        "    print('Achat {}...'.format(item_b))\n",
        "    print('Achat {}...'.format(item_c))\n",
        "    print('Achat {}...'.format(item_d))\n",
        "    print('Achat {}...'.format(item_e))"
      ],
      "execution_count": null,
      "outputs": []
    },
    {
      "cell_type": "code",
      "metadata": {
        "id": "d0oLM74wjmhz"
      },
      "source": [
        "def achat_article_list(items):\n",
        "    for item in items:\n",
        "        print('Achat {}...'.format(item))"
      ],
      "execution_count": null,
      "outputs": []
    },
    {
      "cell_type": "code",
      "metadata": {
        "id": "I8tMLi61TA4k"
      },
      "source": [
        "achat_article_individuel(article_a, article_b, article_c, article_d, article_e)"
      ],
      "execution_count": null,
      "outputs": []
    },
    {
      "cell_type": "code",
      "metadata": {
        "id": "AJUXVQA2TA4l"
      },
      "source": [
        "achat_article_list(article_list)"
      ],
      "execution_count": null,
      "outputs": []
    },
    {
      "cell_type": "markdown",
      "metadata": {
        "id": "6h7TFA4nTA4l"
      },
      "source": [
        "En utilisant `list`, la fonction est beaucoup plus courte à l'aide de la boucle `for`. Mais encore le plus important c'est que `achat_article_list` est beaucoup plus flexible. \n",
        "\n",
        "Et si au lieu d'acheter cinq articles, nous voulions en acheter plus ou moins?\n",
        "A votre avis quel sera le problème?"
      ]
    },
    {
      "cell_type": "markdown",
      "metadata": {
        "id": "DhmvSv3uTA4o"
      },
      "source": [
        "Nous allons rencontrer une erreur lorsque nous essayons d'utiliser `achat_article_individuel` car elle attend exactement 5 arguments. Et ce n'est pas le cas avec `achat_article_list`, car la boucle` for` peut fonctionner avec des listes de n'importe quelle longueur."
      ]
    },
    {
      "cell_type": "markdown",
      "metadata": {
        "id": "Z_-xhcVeTA4r"
      },
      "source": [
        "Les collections (ou **conteneurs** comme on les appelle en Python) peuvent être très utiles pour résoudre des problèmes avec des données complexes. Python fournit plusieurs types de conteneurs, que nous allons explorer. Chacun a des propriétés et une structure différentes qui les rendent utiles pour des tâches spécifiques."
      ]
    },
    {
      "cell_type": "markdown",
      "metadata": {
        "id": "5xPEyL8lTA4t"
      },
      "source": [
        "## `list`"
      ]
    },
    {
      "cell_type": "markdown",
      "metadata": {
        "id": "hS-lm3myTA4v"
      },
      "source": [
        "Les listes sont créés en utilisant des crochets `[]`.\n",
        "\n",
        "On peut stocker n'importe quel `type` de données dans une `list`. "
      ]
    },
    {
      "cell_type": "code",
      "metadata": {
        "id": "1xe4UJ4LTA4x"
      },
      "source": [
        "int_list = [2, 6, 3049, 18, 37]\n",
        "float_list = [3.7, 8.2, 178.245, 63.1]\n",
        "\n",
        "print(int_list)\n",
        "print(float_list)"
      ],
      "execution_count": null,
      "outputs": []
    },
    {
      "cell_type": "markdown",
      "metadata": {
        "id": "xm-UmpO6TA4x"
      },
      "source": [
        "On peut même mettre une `list` à l'intérieur d'une autre `list`."
      ]
    },
    {
      "cell_type": "code",
      "metadata": {
        "id": "kNBsDH1jTA4y"
      },
      "source": [
        "liste_de_listes = [['une', 'liste', 'de', 'mots'], [1, 5, 209], [True, False]]\n",
        "print(liste_de_listes)"
      ],
      "execution_count": null,
      "outputs": []
    },
    {
      "cell_type": "markdown",
      "metadata": {
        "id": "iVN7jtwNL7YO"
      },
      "source": [
        "La `list` Python est décrite comme hétérogène car elle peut contenir une collection d'objets mixtes. C'est l'une des principales propriétés de définition de la `list` Python."
      ]
    },
    {
      "cell_type": "code",
      "metadata": {
        "id": "QUN2K_pRLzLL"
      },
      "source": [
        "heter_list = [[23, 73, 50], 'des mots', 12.308, [[False, True], 'autres mots']]\n",
        "print(heter_list)"
      ],
      "execution_count": null,
      "outputs": []
    },
    {
      "cell_type": "markdown",
      "metadata": {
        "id": "XLBwEH1jTA42"
      },
      "source": [
        "Lorsque nous mettons des données dans une `list` dans un ordre particulier, elles restent dans cet ordre lorsque nous utilisons la `list` dans une boucle `for`. Parce que `list` préserve l'ordre, nous disons que c'est __ordonnée__. On peut utiliser cette propriété pour récupérer des éléments particuliers d'une `list` en fonction de leur position (ou __index__) dans la liste."
      ]
    },
    {
      "cell_type": "code",
      "metadata": {
        "id": "fwoau5-ITA43"
      },
      "source": [
        "print(article_list)\n",
        "print(article_list[2])"
      ],
      "execution_count": null,
      "outputs": []
    },
    {
      "cell_type": "markdown",
      "metadata": {
        "id": "JeblHDLoTA46"
      },
      "source": [
        "Les listes en python sont `zéro-indexées`, c'est pourquoi il a renvoyé le troisième élément lorsque nous avons demandé l'élément d'index 2."
      ]
    },
    {
      "cell_type": "code",
      "metadata": {
        "id": "xbVMaxVRTA47"
      },
      "source": [
        "print(article_list[0])\n",
        "print(article_list[1])\n",
        "print(article_list[2])"
      ],
      "execution_count": null,
      "outputs": []
    },
    {
      "cell_type": "markdown",
      "metadata": {
        "id": "6s3owYf4TA47"
      },
      "source": [
        "Nous pouvons également récupérer une __slice__ d'éléments à partir d'une liste."
      ]
    },
    {
      "cell_type": "code",
      "metadata": {
        "id": "iK5_lkFeTA48"
      },
      "source": [
        "print(article_list)\n",
        "print(article_list[1:4])\n",
        "print(article_list[3:])"
      ],
      "execution_count": null,
      "outputs": []
    },
    {
      "cell_type": "markdown",
      "metadata": {
        "id": "Hvb8A9ygTA48"
      },
      "source": [
        "Python a également une syntaxe d'indexation négative, qui permet d'accéder à la liste depuis la fin au lieu du début. Le dernier élément est indexé par -1."
      ]
    },
    {
      "cell_type": "code",
      "metadata": {
        "id": "DU_VHsQ5TA49"
      },
      "source": [
        "print(article_list)\n",
        "print(article_list[-1])\n",
        "print(article_list[-3:])"
      ],
      "execution_count": null,
      "outputs": []
    },
    {
      "cell_type": "markdown",
      "metadata": {
        "id": "_p8v7sBWTA49"
      },
      "source": [
        "Nous pouvons également effectuer le slicing (decoupage) en utilisant un pas différent de 1. Par exemple, nous pouvons découper tous les autres éléments de la liste, ou même inverser la liste en effectuant des étapes négatives."
      ]
    },
    {
      "cell_type": "code",
      "metadata": {
        "id": "UTp-CKddTA4-"
      },
      "source": [
        "print(article_list)\n",
        "print(article_list[::2])\n",
        "print(article_list[4:1:-1])"
      ],
      "execution_count": null,
      "outputs": []
    },
    {
      "cell_type": "markdown",
      "metadata": {
        "id": "7nKm9P3kqdTo"
      },
      "source": [
        "__[debut : fin : pas]__\n",
        "\n",
        "\n",
        "ce qui signifie que le slicing commence au __debut__ jusqu'au __fin__ avec un nombre de pas égale à __pas__.\n",
        "  La valeur par défaut de __debut__ est 0, __fin__ est le dernier index de la liste  et pour __pas__ c'est 1."
      ]
    },
    {
      "cell_type": "markdown",
      "metadata": {
        "id": "y_pY3FzATA4-"
      },
      "source": [
        "Nous pouvons bien sûr aussi récupérer des informations à partir d'une liste en utilisant une boucle `for`."
      ]
    },
    {
      "cell_type": "code",
      "metadata": {
        "id": "jMpok5EKTA4_"
      },
      "source": [
        "for element in article_list:\n",
        "    print(element)"
      ],
      "execution_count": null,
      "outputs": []
    },
    {
      "cell_type": "markdown",
      "metadata": {
        "id": "J3SLsUg1TA4_"
      },
      "source": [
        "Généralement pour `for` la syntaxe est `for element in list`, mais nous pouvons parfois combiner une boucle` for` avec l'indexation. La fonction `range` est utile pour cela."
      ]
    },
    {
      "cell_type": "code",
      "metadata": {
        "id": "hPWtxG9NTA5A"
      },
      "source": [
        "for i in range(0, len(article_list), 2):\n",
        "    print(i, article_list[i])"
      ],
      "execution_count": null,
      "outputs": []
    },
    {
      "cell_type": "markdown",
      "metadata": {
        "id": "n862GsZATA5B"
      },
      "source": [
        "La fonction `range` crée une liste d'entiers entre le premier et le deuxième argument, en utilisant le troisième argument comme __pas__. Notez que la limite supérieure (c'est-à-dire le deuxième argument) n'est pas incluse dans la sortie."
      ]
    },
    {
      "cell_type": "code",
      "metadata": {
        "id": "BbWwfFjATA5D"
      },
      "source": [
        "print(range(0, 10, 3))\n",
        "print(range(104, 100, -1))\n",
        "print(range(5))"
      ],
      "execution_count": null,
      "outputs": []
    },
    {
      "cell_type": "markdown",
      "metadata": {
        "id": "QD6kERlOTA5E"
      },
      "source": [
        "On peut également utiliser __indexing/slicing__ pour remplacer les éléments de la liste."
      ]
    },
    {
      "cell_type": "code",
      "metadata": {
        "id": "5vTXAzMZTA5F"
      },
      "source": [
        "article_list = ['pomme', 'oignons', 'riz', 'poisson', 'lait']\n",
        "print(article_list)\n",
        "article_list[-1] = 'orange' # remplacer lait par orange\n",
        "print(article_list)\n",
        "article_list[1:3] = ['carottes', 'couscous'] #remplacer oignons et riz par carottes et couscous\n",
        "print(article_list)"
      ],
      "execution_count": null,
      "outputs": []
    },
    {
      "cell_type": "markdown",
      "metadata": {
        "id": "qd-Y43EsTA5G"
      },
      "source": [
        "Puisque nous pouvons modifier les listes après leur création, nous les appelons __mutable__ (les modifications sont appelées __mutations__). Certains types de données Python sont __immuables__, ce qui signifie qu'une fois sont créés, ils ne peuvent pas être modifiés. Nous allons voir cela en plus en détail aprés.\n",
        "\n",
        "Une autre façon de faire muter une `list` est d'ajouter de nouveaux éléments."
      ]
    },
    {
      "cell_type": "code",
      "metadata": {
        "id": "6e8xTN1aTA5I"
      },
      "source": [
        "article_list = ['pomme', 'oignons', 'riz', 'poisson', 'lait']\n",
        "print(article_list)\n",
        "article_list.append('squash')\n",
        "print(article_list)\n",
        "article_list.append(['pain', 'sel'])\n",
        "print(article_list) #Que s'est-il passé?"
      ],
      "execution_count": null,
      "outputs": []
    },
    {
      "cell_type": "markdown",
      "metadata": {
        "id": "sn3oL1V8TA5I"
      },
      "source": [
        "Étant donné qu'une `list` peut contenir des listes, il faut faire attention lors de l'ajoue de plusieurs éléments à la `list`. Au lieu de `append`, on doit utiliser `extend`."
      ]
    },
    {
      "cell_type": "code",
      "metadata": {
        "id": "T9VG1YLkTA5J"
      },
      "source": [
        "article_list = ['pomme', 'oignons', 'riz', 'poisson', 'lait']\n",
        "print(article_list)\n",
        "article_list.extend(['pain', 'sel'])\n",
        "print(article_list)"
      ],
      "execution_count": null,
      "outputs": []
    },
    {
      "cell_type": "markdown",
      "metadata": {
        "id": "qhHXQl-0TA5K"
      },
      "source": [
        "Pour supprimer un élément d'une liste:"
      ]
    },
    {
      "cell_type": "code",
      "metadata": {
        "id": "vMqHKP5nTA5R"
      },
      "source": [
        "print(article_list)\n",
        "del article_list[-1] # supprimer le dernier élément\n",
        "print(article_list)"
      ],
      "execution_count": null,
      "outputs": []
    },
    {
      "cell_type": "code",
      "metadata": {
        "id": "faZuqLCqTA5T"
      },
      "source": [
        "print(article_list)\n",
        "print(article_list.pop(-1)) # supprimer le dernier élément et retourner sa valeur\n",
        "print(article_list)"
      ],
      "execution_count": null,
      "outputs": []
    },
    {
      "cell_type": "markdown",
      "metadata": {
        "id": "LGk5gEKZTA5g"
      },
      "source": [
        "Une autre mutation qu'on peut effectuer à une liste est de la trier."
      ]
    },
    {
      "cell_type": "code",
      "metadata": {
        "id": "4dZkHeHgTA5h"
      },
      "source": [
        "article_list.sort()\n",
        "print(article_list)"
      ],
      "execution_count": null,
      "outputs": []
    },
    {
      "cell_type": "markdown",
      "metadata": {
        "id": "n7s42JdLTA5h"
      },
      "source": [
        "A cause de la flexibilité de la `list` (ordonnée, hétérogène et mutable). Nous devons faire attention aux changements que nous apportons à une `list`, car ils peuvent être très imprévisibles. Nous pourrions perdre des données!"
      ]
    },
    {
      "cell_type": "markdown",
      "metadata": {
        "id": "TB4odqOnTA5i"
      },
      "source": [
        "### Exercices\n",
        "\n",
        "1. Créez une liste de 10 éléments et ne sélectionnez que les 2 derniers éléments.\n",
        "2. Prenez la même liste et sélectionnez tous les éléments en commençant par le premier élément.\n",
        "3. Sélectionnez tous éléments en commençant par le deuxième élément."
      ]
    },
    {
      "cell_type": "markdown",
      "metadata": {
        "id": "hoyAjlaITA5m"
      },
      "source": [
        "## `tuple`"
      ]
    },
    {
      "cell_type": "markdown",
      "metadata": {
        "id": "KI2XpjeFnZev"
      },
      "source": [
        "Un `tuple` Python est très similaire à une` list` avec la majeure différence  - il est immuable. \n",
        "\n",
        "Nous créons un `tuple` en utilisant des parenthèses `()`."
      ]
    },
    {
      "cell_type": "code",
      "metadata": {
        "id": "4oTl0IN9TA5n"
      },
      "source": [
        "example_tuple = ('Ali', 26, 167.6, True)\n",
        "print(example_tuple)"
      ],
      "execution_count": null,
      "outputs": []
    },
    {
      "cell_type": "markdown",
      "metadata": {
        "id": "OKoY1EIFTA5o"
      },
      "source": [
        "Bien que nous puissions récupérer des données via l'indexation (car un `tuple` est ordonné), nous ne pouvons pas le modifier (car un` tuple` est immuable)."
      ]
    },
    {
      "cell_type": "code",
      "metadata": {
        "id": "_fNLnqyRTA5p",
        "colab": {
          "base_uri": "https://localhost:8080/"
        },
        "outputId": "2cd775c9-2e40-49bf-cfac-ae3ef5a2a53b"
      },
      "source": [
        "print(example_tuple[2])"
      ],
      "execution_count": null,
      "outputs": [
        {
          "output_type": "stream",
          "text": [
            "167.6\n"
          ],
          "name": "stdout"
        }
      ]
    },
    {
      "cell_type": "code",
      "metadata": {
        "id": "hSXijd11TA5q"
      },
      "source": [
        "example_tuple[2] = 169.3"
      ],
      "execution_count": null,
      "outputs": []
    },
    {
      "cell_type": "code",
      "metadata": {
        "id": "Ra7ldVh3TA5q"
      },
      "source": [
        "# La suppression aussi n'est pas alouée\n",
        "del example_tuple[-1]"
      ],
      "execution_count": null,
      "outputs": []
    },
    {
      "cell_type": "markdown",
      "metadata": {
        "id": "lL3xZpnJTA5r"
      },
      "source": [
        "Pour une question de clarté, on doit entourer les tuples avec `()`. Mais si aucun symbole n'est utilisé pour entourer les valeurs séparées par des virgules, python assume que nous voulons un `tuple`"
      ]
    },
    {
      "cell_type": "code",
      "metadata": {
        "id": "2uNujOeCTA5r"
      },
      "source": [
        "example_tuple = 'Ali', 26, 167.6, True\n",
        "print(example_tuple)\n",
        "print(type(example_tuple))"
      ],
      "execution_count": null,
      "outputs": []
    },
    {
      "cell_type": "markdown",
      "metadata": {
        "id": "uBi70PcNTA5s"
      },
      "source": [
        "Ce `tuple` implicite apparaît le plus souvent lorsqu'on travaille avec des fonctions qui renvoient plusieurs sorties."
      ]
    },
    {
      "cell_type": "code",
      "metadata": {
        "id": "K34S71WqTA5t"
      },
      "source": [
        "def carre_cube(nombre):\n",
        "    return nombre**2, nombre**3\n",
        "\n",
        "res = carre_cube(3)\n",
        "print(res)"
      ],
      "execution_count": null,
      "outputs": []
    },
    {
      "cell_type": "markdown",
      "metadata": {
        "id": "1jl7-QNHTA5t"
      },
      "source": [
        "Bien sûr on peut stocker les multiples sorties dans des variables séparées (__unpacking__)."
      ]
    },
    {
      "cell_type": "code",
      "metadata": {
        "id": "cdh1Ih37TA5v"
      },
      "source": [
        "car, cub = carre_cube(4)\n",
        "\n",
        "print(car)\n",
        "print(cub)"
      ],
      "execution_count": null,
      "outputs": []
    },
    {
      "cell_type": "markdown",
      "metadata": {
        "id": "X_EThnFiTA5x"
      },
      "source": [
        "`list` et `tuple` sont tous les deux ordonnés et hétérogènes. Cependant, contrairement à la `liste`, le` tuple` est immuable, ce qui signifie qu'il ne peut pas être modifié après sa création. \n",
        "\n",
        "Par conséquent, une `list` pourrait être meilleure pour représenter des données qui devraient changer au long d'un programme. Un `tuple` est préférable pour représenter des données qui doivent rester fixes, comme les coordonnées géographiques d'une ville par exemple."
      ]
    },
    {
      "cell_type": "markdown",
      "metadata": {
        "id": "qX0tsjWxTA50"
      },
      "source": [
        "## `set`"
      ]
    },
    {
      "cell_type": "markdown",
      "metadata": {
        "id": "eu2q3eVanfwT"
      },
      "source": [
        "Un `set` (ensemble) est similaire à une` liste`, sauf qu'il n'est pas ordonné. Il peut contenir des données hétérogènes et il est aussi mutable (modifiable). \n",
        "\n",
        "Nous pouvons créer un `set` en plaçant nos données entre accolades `{}`."
      ]
    },
    {
      "cell_type": "code",
      "metadata": {
        "id": "aLfk8o7UTA51"
      },
      "source": [
        "example_set = {'Ahmed', 26, 167.6, True}\n",
        "print(example_set)"
      ],
      "execution_count": null,
      "outputs": []
    },
    {
      "cell_type": "markdown",
      "metadata": {
        "id": "gg9pBda3TA52"
      },
      "source": [
        "Même si nous avons saisi les données dans un ordre, le `set` les retourne dans un ordre différent. Plus important encore, on peut pas effectuer ni l'indexation ni le slicing avec un `set`."
      ]
    },
    {
      "cell_type": "code",
      "metadata": {
        "id": "xEtGC0KwTA52"
      },
      "source": [
        "print(example_set[0])"
      ],
      "execution_count": null,
      "outputs": []
    },
    {
      "cell_type": "markdown",
      "metadata": {
        "id": "yVdrx_jfTA53"
      },
      "source": [
        "Mais on a toujours la possibilté d'ajouter ou de supprimer un élémeent."
      ]
    },
    {
      "cell_type": "code",
      "metadata": {
        "id": "t8E4tCGQTA53"
      },
      "source": [
        "print(example_set)\n",
        "example_set.remove(26)\n",
        "print(example_set)"
      ],
      "execution_count": null,
      "outputs": []
    },
    {
      "cell_type": "code",
      "metadata": {
        "id": "y5i2SjIvTA54"
      },
      "source": [
        "example_set.add('True')\n",
        "print(example_set)\n",
        "example_set.update([58.1, 'noir'])\n",
        "print(example_set)"
      ],
      "execution_count": null,
      "outputs": []
    },
    {
      "cell_type": "markdown",
      "metadata": {
        "id": "ysSYd0INTA55"
      },
      "source": [
        "La fonction `add` d'un `set` est similaire à la fonction `append` d'une `list`. La fonction `update` d'un` set` fonctionne de manière similaire à la fonction `extend` de `list`."
      ]
    },
    {
      "cell_type": "markdown",
      "metadata": {
        "id": "dCfKmDYPTA6L"
      },
      "source": [
        "### Exercises\n",
        "\n",
        "Soit les deux sets suivants: \n",
        "`\n",
        "set1 = {1,2,3,4,5} et \n",
        "set2 = {4,5,6,7,8}\n",
        "`\n",
        "\n",
        "\n",
        "2. Ecrivez un programme pour supprimer l'intersection des deux sets `set2` et `set1`."
      ]
    },
    {
      "cell_type": "markdown",
      "metadata": {
        "id": "81dmeYeWTA6M"
      },
      "source": [
        "## `dict`"
      ]
    },
    {
      "cell_type": "markdown",
      "metadata": {
        "id": "JHqsLvPunnWv"
      },
      "source": [
        "Recommençons avec la `list`, pour comprendre le `dict`. "
      ]
    },
    {
      "cell_type": "code",
      "metadata": {
        "id": "61TQ8h_OTA6M"
      },
      "source": [
        "p = ['Ahmed', 30, 172.5, 74.8, 'noir', 'noir', True]"
      ],
      "execution_count": null,
      "outputs": []
    },
    {
      "cell_type": "markdown",
      "metadata": {
        "id": "QFgS-lb8TA6N"
      },
      "source": [
        "Cette `list` décrit une personne `p`: son nom, âge, taille (cm), poids (kg), la couleur de ses cheveux, la couleur de ses yeux et si elle est mariée ou pas. Nous savons qu'on peut accéder à ces informations individuellement par l'index."
      ]
    },
    {
      "cell_type": "code",
      "metadata": {
        "id": "34oAiPhnTA6N"
      },
      "source": [
        "print('Nom: %s' % p[0])\n",
        "print('Cheveux de couleur: %s' % p[4])"
      ],
      "execution_count": null,
      "outputs": []
    },
    {
      "cell_type": "markdown",
      "metadata": {
        "id": "Fy11rI3DTA6O"
      },
      "source": [
        "Il serait facile de se tromper sur quelles données on parle (par exemple, `noir` est-ce la couleur des cheveux ou bien des yeux?), l'âge sera-t-il toujours à l'indice 1?.\n",
        "\n",
        "Une meilleure solution serait une structure de données où nous pourrions indexer en utilisant des valeurs significatives. Par exemple, au lieu d'utiliser `p[0]` pour récupérer `Ahmed`, on peut utiliser `p['nom']`.... Cette fonctionnalité est la caractéristique centrale de `dict` en python."
      ]
    },
    {
      "cell_type": "code",
      "metadata": {
        "id": "0G7TSaItTA6O",
        "colab": {
          "base_uri": "https://localhost:8080/"
        },
        "outputId": "34232262-78f3-4ad6-efbc-abb048d170d9"
      },
      "source": [
        "p_dict = {'nom': 'Ahmed', 'age': 30, 'taille': 172.5, 'poids': 74.8, 'cheveux': 'noir', 'yeux': 'noir', 'mariee': True}\n",
        "\n",
        "print('Nom: %s' % p_dict['nom'])\n",
        "print('Cheveux de couleur: %s' % p_dict['cheveux'])"
      ],
      "execution_count": null,
      "outputs": [
        {
          "output_type": "stream",
          "text": [
            "Nom: Ahmed\n",
            "Cheveux de couleur: noir\n"
          ],
          "name": "stdout"
        }
      ]
    },
    {
      "cell_type": "markdown",
      "metadata": {
        "id": "SotN94hKTA6P"
      },
      "source": [
        "On appel l'index `nom`  et `cheveux` **clés**. Chaque clé est associée à une **valeur** dans une **paire clé-valeur**. Chaque paire clé-valeur est séparée par une virgule `,` et à l'intérieur d'une paire, la clé et la valeur sont séparées par deux-points `:`."
      ]
    },
    {
      "cell_type": "markdown",
      "metadata": {
        "id": "VIiqFx5gTA6Y"
      },
      "source": [
        "`dict` est également mutable. Nous pouvons ajouter de nouvelles paires clé-valeur par une simple affectation."
      ]
    },
    {
      "cell_type": "code",
      "metadata": {
        "id": "z3Zcmz5zTA6Y"
      },
      "source": [
        "print(p_dict)\n",
        "p_dict['repas favori'] =  'Couscous'\n",
        "print(p_dict)"
      ],
      "execution_count": null,
      "outputs": []
    },
    {
      "cell_type": "markdown",
      "metadata": {
        "id": "VdexpMY3TA6Z"
      },
      "source": [
        "On peut également utiliser `update`, similaire à un `set`, sauf maintenant avec des paires clé-valeur."
      ]
    },
    {
      "cell_type": "code",
      "metadata": {
        "id": "ypw9BUDOTA6Z"
      },
      "source": [
        "print(p_dict)\n",
        "p_dict.update({'tel': '0666666666', 'freres': 1, 'soeures': 0})\n",
        "print(p_dict)"
      ],
      "execution_count": null,
      "outputs": []
    },
    {
      "cell_type": "markdown",
      "metadata": {
        "id": "7mIcAXhiTA6a"
      },
      "source": [
        "On peut remplacer ou supprimer des paires clé-valeur d'un `dict`."
      ]
    },
    {
      "cell_type": "code",
      "metadata": {
        "id": "7I40BvbBTA6b"
      },
      "source": [
        "print(p_dict)\n",
        "p_dict['soeures'] = 4\n",
        "print(p_dict.pop('freres'))\n",
        "print(p_dict)"
      ],
      "execution_count": null,
      "outputs": []
    },
    {
      "cell_type": "code",
      "metadata": {
        "id": "zh43yuJnTA6c"
      },
      "source": [
        "del p_dict['repas favori']\n",
        "print(p_dict)"
      ],
      "execution_count": null,
      "outputs": []
    },
    {
      "cell_type": "code",
      "metadata": {
        "id": "nKFYsYf-TA6d"
      },
      "source": [
        "print(p_dict.pop('freres'))\n",
        "print(p_dict)"
      ],
      "execution_count": null,
      "outputs": []
    },
    {
      "cell_type": "markdown",
      "metadata": {
        "id": "pKel7sPtTA6e"
      },
      "source": [
        "On peut récupérer une liste des clés et des valeurs directement, ou sous forme de paires clé-valeur, en utilisant les méthodes appropriées de `dict`."
      ]
    },
    {
      "cell_type": "code",
      "metadata": {
        "id": "0RcfPhzlTA6f"
      },
      "source": [
        "print(p_dict.keys())\n",
        "print(p_dict.values())\n",
        "print(p_dict.items())"
      ],
      "execution_count": null,
      "outputs": []
    },
    {
      "cell_type": "markdown",
      "metadata": {
        "id": "1tQPbiX2TA6o"
      },
      "source": [
        "## Comprehension"
      ]
    },
    {
      "cell_type": "markdown",
      "metadata": {
        "id": "kzsC3S4ynrTX"
      },
      "source": [
        "Python a une syntaxe spéciale appelée __comprehension__ pour combiner l'itération avec la création d'une structure de données. Il s'agit essentiellement d'une boucle `for` placée entre les crochets appropriés pour créer la structure de données."
      ]
    },
    {
      "cell_type": "code",
      "metadata": {
        "id": "RvRQtNbVTA6p"
      },
      "source": [
        "carres = [x**2 for x in range(10)]\n",
        "carres_dict = {x: x**2 for x in range(10)}\n",
        "\n",
        "print(carres)\n",
        "print(carres_dict)"
      ],
      "execution_count": null,
      "outputs": []
    },
    {
      "cell_type": "markdown",
      "metadata": {
        "id": "MFjgCPQ7TA6p"
      },
      "source": [
        "Les compréhensions sont très utiles pour faire des transformations simples sur des structures de données. Par exemple, on peut ecrire une fonction qui analyse `p_dict`. Il peut être utile d'avoir un `dict` des types de données des valeurs dans `p_dict`."
      ]
    },
    {
      "cell_type": "code",
      "metadata": {
        "id": "E7JfL3hETA6q"
      },
      "source": [
        "p_dict_dtypes = {k: type(v) for k, v in p_dict.items()}\n",
        "print(p_dict_dtypes)"
      ],
      "execution_count": null,
      "outputs": []
    },
    {
      "cell_type": "markdown",
      "metadata": {
        "id": "KJDYefikTA6q"
      },
      "source": [
        "Les compréhensions rendent également le code plus lisible. \n",
        "\n",
        "Comparons l'implémentation de la boucle `for` de `carres_dict` avec la compréhension."
      ]
    },
    {
      "cell_type": "code",
      "metadata": {
        "id": "e0EdejaATA6q"
      },
      "source": [
        "carres_dict = {}\n",
        "for x in range(10):\n",
        "    carres_dict[x] = x**2\n",
        "\n",
        "print(carres_dict)\n",
        "\n",
        "carres_dict = {x: x**2 for x in range(10)}\n",
        "\n",
        "print(carres_dict)"
      ],
      "execution_count": null,
      "outputs": []
    }
  ]
}