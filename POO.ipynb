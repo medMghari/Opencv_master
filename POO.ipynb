{
  "nbformat": 4,
  "nbformat_minor": 0,
  "metadata": {
    "kernelspec": {
      "display_name": "Python 3",
      "language": "python",
      "name": "python3"
    },
    "nbclean": true,
    "colab": {
      "name": "POO.ipynb",
      "provenance": []
    }
  },
  "cells": [
    {
      "cell_type": "markdown",
      "metadata": {
        "id": "BI-D8-B-zjyx"
      },
      "source": [
        "# Programmation Orientée Objet"
      ]
    },
    {
      "cell_type": "markdown",
      "metadata": {
        "id": "QT4PNoFLmttL"
      },
      "source": [
        "## Introduction"
      ]
    },
    {
      "cell_type": "code",
      "metadata": {
        "id": "R3ROocPQzjyy"
      },
      "source": [
        "x = 42\n",
        "print(\"%d c'est un objet de la classe %s\" % (x, type(x)))\n",
        "\n",
        "x = 'Hello world!'\n",
        "print(\"%s c'est un objet de la classe %s\" % (x, type(x)))\n",
        "\n",
        "x = {'nom': 'Youness', 'age': 30}\n",
        "print(\"%s c'est un objet de la classe %s\" % (x, type(x)))"
      ],
      "execution_count": null,
      "outputs": []
    },
    {
      "cell_type": "markdown",
      "metadata": {
        "id": "Bgf03vQkzjyz"
      },
      "source": [
        "Nous savons que les entiers, les chaînes et les dictionnaires, etc, se comportent différemment. Ils ont des propriétés différentes. Dans le langage de programmation, on dit qu'ils ont différents __attributs__ et __méthodes__.\n",
        "\n",
        "Les attributs d'un objet sont ses variables internes qui sont utilisées pour stocker des informations sur l'objet."
      ]
    },
    {
      "cell_type": "code",
      "metadata": {
        "id": "nrGmbrhVzjy1"
      },
      "source": [
        "# un nombre complexe a une partie réelle et une partie imaginaire\n",
        "x = complex(3, 2)\n",
        "print(x.real)\n",
        "print(x.imag)"
      ],
      "execution_count": null,
      "outputs": []
    },
    {
      "cell_type": "markdown",
      "metadata": {
        "id": "Q7ZHGQ8vzjy2"
      },
      "source": [
        "Les méthodes d'un objet sont ses fonctions internes qui implémentent différents comportements."
      ]
    },
    {
      "cell_type": "code",
      "metadata": {
        "id": "5yIB5pEQzjy3"
      },
      "source": [
        "x = 'Ali'\n",
        "print(x.lower())\n",
        "print(x.upper())"
      ],
      "execution_count": null,
      "outputs": []
    },
    {
      "cell_type": "markdown",
      "metadata": {
        "id": "0P79eFMEzjy4"
      },
      "source": [
        "Plus souvent on intéragit avec les méthodes d'un objet au lieu de ses attributs. Les attributs représentent l'__état__ d'un objet. On préfére généralement muter l'état d'un objet via ses méthodes, car les méthodes représentent les actions que l'on peut réaliser en toute sécurité sans casser l'objet. Souvent, les attributs d'un objet sont __immuables__."
      ]
    },
    {
      "cell_type": "code",
      "metadata": {
        "id": "cOmz4Cmtzjy5"
      },
      "source": [
        "x = complex(5, 3)\n",
        "x.real = 6"
      ],
      "execution_count": null,
      "outputs": []
    },
    {
      "cell_type": "markdown",
      "metadata": {
        "id": "9m1Y1PB2zjy6"
      },
      "source": [
        "Un exemple de méthode qui mute un objet est la méthode `append` d'une `list`."
      ]
    },
    {
      "cell_type": "code",
      "metadata": {
        "id": "IBwNPo7_zjy7"
      },
      "source": [
        "x = [35, 'example', 348.1]\n",
        "x.append(True)\n",
        "print(x)"
      ],
      "execution_count": null,
      "outputs": []
    },
    {
      "cell_type": "markdown",
      "metadata": {
        "id": "XB1szdHPzjy8"
      },
      "source": [
        "On peut utiliser `dir` sur un objet ou sur une classe pour savoir quels sont ses attributs et ses méthodes."
      ]
    },
    {
      "cell_type": "code",
      "metadata": {
        "id": "4eN0sAT3zjy9"
      },
      "source": [
        "# dir sur un objet\n",
        "x = 'abc'\n",
        "print(dir(x)[-6:])\n",
        "\n",
        "# dir sur une classe\n",
        "print(dir(complex)[-6:])"
      ],
      "execution_count": null,
      "outputs": []
    },
    {
      "cell_type": "markdown",
      "metadata": {
        "id": "RJ29GZSOmpto"
      },
      "source": [
        "## Classes"
      ]
    },
    {
      "cell_type": "markdown",
      "metadata": {
        "id": "ufQfguPGzjy_"
      },
      "source": [
        "On peut définir nos propres classes pour créer des objets qui exécutent une variété de tâches et représentent des informations de manière pratique. \n",
        "\n",
        "Pour l'instant, implémentons une classe appelée `Fraction` pour travailler avec des nombres fractionnaires (par exemple 3/8). La première chose que doit faire la classe `Fraction` c'est de fournir la possibilité de créer un objet `Fraction` cela est assuré à l'aide de la méthode spéciale (cachée) appelée `__init__`. Nous allons également définir une autre méthode spéciale appelée `__repr__` qui indique à Python comment afficher un objet `Fraction`."
      ]
    },
    {
      "cell_type": "code",
      "metadata": {
        "id": "Mmpt8EmNzjzC"
      },
      "source": [
        "class Fraction(object):\n",
        "\n",
        "    def __init__(self, numerateur, denominateur):\n",
        "        self.numerateur = numerateur\n",
        "        self.denominateur = denominateur\n",
        "\n",
        "    def __repr__(self):\n",
        "        return '%d/%d' % (self.numerateur, self.denominateur)"
      ],
      "execution_count": null,
      "outputs": []
    },
    {
      "cell_type": "code",
      "metadata": {
        "colab": {
          "base_uri": "https://localhost:8080/"
        },
        "id": "VvGRiKpbzjzD",
        "outputId": "24706c30-70e4-4dde-a764-92242eca6b99"
      },
      "source": [
        "fraction = Fraction(4, 3)\n",
        "print(fraction)"
      ],
      "execution_count": null,
      "outputs": [
        {
          "output_type": "stream",
          "text": [
            "4/3\n"
          ],
          "name": "stdout"
        }
      ]
    },
    {
      "cell_type": "markdown",
      "metadata": {
        "id": "_cKiz2dRzjzE"
      },
      "source": [
        "Vous avez peut-être remarqué que les deux méthodes prenaient comme premier argument le mot-clé `self`. Le premier argument de toute méthode d'une classe est l'instance de la classe sur laquelle la méthode est appelée. L'argument `self` est le mécanisme utilisé par Python pour que la méthode puisse savoir sur quelle instance de la classe elle est appelée. On peut appeler une méthode d'une classe de deux manières. \n",
        "\n",
        "Soit une classe `MaClass` avec la méthode `.afficher(self)`, si nous instancions un objet de cette classe, nous pouvons appeler la méthode de deux manières:"
      ]
    },
    {
      "cell_type": "code",
      "metadata": {
        "colab": {
          "base_uri": "https://localhost:8080/"
        },
        "id": "3wPMk8r8zjzF",
        "outputId": "62413ddb-3e2d-4d3a-fe69-3185ca4b4a05"
      },
      "source": [
        "class MaClass(object):\n",
        "    def __init__(self, num):\n",
        "        self.num = num\n",
        "        \n",
        "    def afficher(self):\n",
        "        print(self.num)\n",
        "        \n",
        "maclass = MaClass(2)\n",
        "\n",
        "maclass.afficher()\n",
        "MaClass.afficher(maclass)"
      ],
      "execution_count": null,
      "outputs": [
        {
          "output_type": "stream",
          "text": [
            "2\n",
            "2\n"
          ],
          "name": "stdout"
        }
      ]
    },
    {
      "cell_type": "markdown",
      "metadata": {
        "id": "Ritck0EkzjzG"
      },
      "source": [
        "Avec `maclass.afficher()` l'argument `self` est compris car `maclass` est une instance de `MaClass`. C'est la manière presque universelle d'appeler une méthode. L'autre possibilité est `MaClass.afficher(maclass)` où nous passons l'objet `maclass` comme argument `self`, cette syntaxe est beaucoup moins courante.\n",
        "\n",
        "Comme tous les arguments Python, il n'est pas nécessaire que `self` soit nommé `self`, nous pourrions aussi l'appeler `this`, `pomme` ou `chose`. Cependant, l'utilisation de `self` est une convention Python très forte. On doit utiliser cette convention afin que notre code soit compris par d'autres personnes.\n",
        "\n",
        "Revenons à notre classe `Fraction`. Jusqu'à présent, nous pouvons créer un objet `Fraction` et l'afficher. On peut également créer une méthode `reduire` qui divisera le numérateur et le dénominateur par leur plus grand diviseur commun."
      ]
    },
    {
      "cell_type": "code",
      "metadata": {
        "id": "NnkV2J8GzjzH"
      },
      "source": [
        "class Fraction(object):\n",
        "\n",
        "    def __init__(self, numerateur, denominateur):\n",
        "        self.numerateur = numerateur\n",
        "        self.denominateur = denominateur\n",
        "\n",
        "    def __repr__(self):\n",
        "        return '%d/%d' % (self.numerateur, self.denominateur)\n",
        "\n",
        "    def _gdc(self):\n",
        "        ppetit = min(self.numerateur, self.denominateur)\n",
        "        petit_diviseurs = {i for i in range(1, ppetit + 1) if ppetit % i == 0}\n",
        "\n",
        "        pgrand = max(self.numerateur, self.denominateur)\n",
        "        diviseurs_communs = {i for i in petit_diviseurs if pgrand % i == 0}\n",
        "        \n",
        "        return max(diviseurs_communs)\n",
        "\n",
        "    def reduire(self):\n",
        "        gdc = self._gdc()\n",
        "        self.numerateur = self.numerateur / gdc\n",
        "        self.denominateur = self.denominateur / gdc\n",
        "        return self"
      ],
      "execution_count": null,
      "outputs": []
    },
    {
      "cell_type": "code",
      "metadata": {
        "id": "SQVyUZvczjzJ"
      },
      "source": [
        "fraction = Fraction(16, 32)\n",
        "fraction.reduire()\n",
        "print(fraction)"
      ],
      "execution_count": null,
      "outputs": []
    },
    {
      "cell_type": "markdown",
      "metadata": {
        "id": "dTS6uvjwm30t"
      },
      "source": [
        "## Méthodes privées en Python"
      ]
    },
    {
      "cell_type": "markdown",
      "metadata": {
        "id": "c2j2RLgUzjzV"
      },
      "source": [
        "Vous avez peut-être remarqué que nous avons utilisé des méthodes commençant par `_`. Cela a une signification de la notion de __fonction privée__. Les méthodes privées sont utilisées en interne à l'objet, souvent dans un sens __d'aide__. En Python, chaque méthode est publique, mais pour distinguer les méthodes privées, on ajoute un trait de soulignement au début de la méthode, d'où `_gdc`.\n",
        "\n",
        "Une autre convention Python traitant des traits de soulignement sont les méthodes dites `dunder` qui ont des doubles traits de soulignement avant et après les noms des méthodes. Il y en a beaucoup en Python `__init__, __repr__, __add__`, etc. et ils ont une signification particulière. Notez qu'elles sont généralement considérées comme des méthodes privées, sauf dans des circonstances particulières. Dans le cas de méthodes comme `__add__`, c'est ce qui permet au programmeur de spécifier l'opération `+`."
      ]
    },
    {
      "cell_type": "code",
      "metadata": {
        "id": "qcMyYuOJzjzX"
      },
      "source": [
        "class Nombre(object):\n",
        "  def __init__(self, valeur):\n",
        "    self.valeur = valeur\n",
        "  def __repr__(self):\n",
        "    return \"La valeur est %s\" % self.valeur\n",
        "\n",
        "  def __add__(self, n):\n",
        "    return Nombre(self.valeur + n)\n"
      ],
      "execution_count": null,
      "outputs": []
    },
    {
      "cell_type": "code",
      "metadata": {
        "id": "8ygDMMpNIy1h"
      },
      "source": [
        "nombre = Nombre(5)\n",
        "nombre + 3"
      ],
      "execution_count": null,
      "outputs": []
    },
    {
      "cell_type": "markdown",
      "metadata": {
        "id": "pxJrtW9ozjzl"
      },
      "source": [
        "###Exercice\n",
        "- Ajouter au code de la fonction Fraction les méthodes spéciales `__add__` et `__mul__` afin d'avoir la possibilté d'utiliser l'addition et la multiplication entre les `Fractions`."
      ]
    },
    {
      "cell_type": "markdown",
      "metadata": {
        "id": "yuK2z7OanCxa"
      },
      "source": [
        "## Héritage"
      ]
    },
    {
      "cell_type": "markdown",
      "metadata": {
        "id": "tJ5s_Yxozjza"
      },
      "source": [
        "Souvent, la classe que nous définissons en Python s'appuie sur des idées existantes dans d'autres classes. Par exemple, notre classe `Fraction` est un nombre, elle doit donc se comporter comme les autres nombres. Même si vous n'écrivez jamais de classe, il est utile de comprendre l'idée d'héritage et la relation entre les classes.\n",
        "\n",
        "Écrivons une classe générale appelée `Rectangle`, elle aura deux attributs, une longueur et une largeur, ainsi que quelques méthodes."
      ]
    },
    {
      "cell_type": "code",
      "metadata": {
        "id": "ofYfntvmzjzb"
      },
      "source": [
        "class Rectangle(object):\n",
        "    def __init__(self, longueur, largeur):\n",
        "        self.longueur = longueur\n",
        "        self.largeur = largeur\n",
        "    \n",
        "    def aire(self):\n",
        "        return self.longueur * self.largeur\n",
        "    \n",
        "    def perimetre(self):\n",
        "        return 2 * (self.longueur + self.largeur)"
      ],
      "execution_count": null,
      "outputs": []
    },
    {
      "cell_type": "markdown",
      "metadata": {
        "id": "OhhGxgm3zjzc"
      },
      "source": [
        "Maintenant, un carré est aussi un rectangle, mais c'est un peu plus restreint(__largeur=longueur__), on peur donc sous-classer `Rectangle` et appliquer cela dans le code."
      ]
    },
    {
      "cell_type": "code",
      "metadata": {
        "id": "sZvALzG7zjzc"
      },
      "source": [
        "class Carree(Rectangle):\n",
        "    def __init__(self, longueur):\n",
        "        super(Carree, self).__init__(longueur, longueur)"
      ],
      "execution_count": null,
      "outputs": []
    },
    {
      "cell_type": "code",
      "metadata": {
        "id": "Nu-_trxAzjzd"
      },
      "source": [
        "c = Carree(5)\n",
        "c.aire(), c.perimetre()"
      ],
      "execution_count": null,
      "outputs": []
    }
  ]
}