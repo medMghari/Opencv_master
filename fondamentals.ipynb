{
  "nbformat": 4,
  "nbformat_minor": 0,
  "metadata": {
    "kernelspec": {
      "display_name": "Python 3",
      "language": "python",
      "name": "python3"
    },
    "language_info": {
      "codemirror_mode": {
        "name": "ipython",
        "version": 3
      },
      "file_extension": ".py",
      "mimetype": "text/x-python",
      "name": "python",
      "nbconvert_exporter": "python",
      "pygments_lexer": "ipython3",
      "version": "3.6.2"
    },
    "nbclean": true,
    "colab": {
      "name": "fondamentals.ipynb",
      "provenance": []
    }
  },
  "cells": [
    {
      "cell_type": "code",
      "metadata": {
        "id": "uAxuYqLzDtkD"
      },
      "source": [
        "%matplotlib inline"
      ],
      "execution_count": 28,
      "outputs": []
    },
    {
      "cell_type": "markdown",
      "metadata": {
        "id": "9YgJoptvDtkE"
      },
      "source": [
        "# Python fondamentales\n",
        "<!-- requirement: images/high_score_flowchart.png -->\n",
        "<!-- requirement: images/nested_logic_flowchart.png -->"
      ]
    },
    {
      "cell_type": "markdown",
      "metadata": {
        "id": "niDM2-TFDtkF"
      },
      "source": [
        "## Introduction python"
      ]
    },
    {
      "cell_type": "code",
      "metadata": {
        "id": "guugTt7_DtkG",
        "colab": {
          "base_uri": "https://localhost:8080/"
        },
        "outputId": "2931c924-c65f-44dd-99f2-04c562e38019"
      },
      "source": [
        "1 + 1"
      ],
      "execution_count": 1,
      "outputs": [
        {
          "output_type": "execute_result",
          "data": {
            "text/plain": [
              "2"
            ]
          },
          "metadata": {
            "tags": []
          },
          "execution_count": 1
        }
      ]
    },
    {
      "cell_type": "code",
      "metadata": {
        "id": "skt0fq0KDtkI",
        "colab": {
          "base_uri": "https://localhost:8080/"
        },
        "outputId": "75e2f763-aa1a-4f54-af9c-8124c150f991"
      },
      "source": [
        "2 * 3.5"
      ],
      "execution_count": 2,
      "outputs": [
        {
          "output_type": "execute_result",
          "data": {
            "text/plain": [
              "7.0"
            ]
          },
          "metadata": {
            "tags": []
          },
          "execution_count": 2
        }
      ]
    },
    {
      "cell_type": "code",
      "metadata": {
        "id": "8ziZtFP-DtkJ",
        "colab": {
          "base_uri": "https://localhost:8080/"
        },
        "outputId": "fe79072f-d9e5-4c55-c58d-7c6198ec5adc"
      },
      "source": [
        "1 + 1\n",
        "2 * 3.5"
      ],
      "execution_count": 3,
      "outputs": [
        {
          "output_type": "execute_result",
          "data": {
            "text/plain": [
              "7.0"
            ]
          },
          "metadata": {
            "tags": []
          },
          "execution_count": 3
        }
      ]
    },
    {
      "cell_type": "markdown",
      "metadata": {
        "id": "Oj-8Ffw8DtkK"
      },
      "source": [
        "Dans la première cellule on a calculé `1 + 1`, et Python returne le resultat `2`. On peut imaginer celà comme un court programme. De même, dans le deuxième cellule on calcule `2 * 3.5`, et Python returne le resultat `7.0`.\n",
        "\n",
        "Cependant, dans la troisième cellule, lorsque nous combinons ces deux instructions sous forme de lignes séquentielles, Python ne retourne que `7.0`. Pourquoi donc?\n",
        "\n",
        "Python ne peut renvoyer qu'un seul résultat à la fin de la cellule, donc la première ligne est évaluée, mais nous ne voyons jamais le résultat. Une façon de rendre compte des résultats intermédiaires consiste à utiliser l'impression `print`"
      ]
    },
    {
      "cell_type": "code",
      "metadata": {
        "id": "5kacdHhpDtkL",
        "colab": {
          "base_uri": "https://localhost:8080/"
        },
        "outputId": "0ccc958a-147b-400d-8e02-9b44744f4bdd"
      },
      "source": [
        "print(1 + 1)\n",
        "print(2 * 3.5)"
      ],
      "execution_count": 12,
      "outputs": [
        {
          "output_type": "stream",
          "text": [
            "2\n",
            "7.0\n"
          ],
          "name": "stdout"
        }
      ]
    },
    {
      "cell_type": "markdown",
      "metadata": {
        "id": "QdRQPQTZDtkM"
      },
      "source": [
        "Nous pouvons également inclure des **commentaires**, pour ajouter des notes et des explications au code. Nous utilisons `#` pour indiquer un commentaire."
      ]
    },
    {
      "cell_type": "code",
      "metadata": {
        "id": "7hDXCGV2DtkN",
        "colab": {
          "base_uri": "https://localhost:8080/"
        },
        "outputId": "173c5de8-0490-4e2e-915e-5d6da334fa6c"
      },
      "source": [
        "print('1 + 1 est', 1 + 1)\n",
        "# ceci est un commentaire!\n",
        "print('Fin')"
      ],
      "execution_count": 13,
      "outputs": [
        {
          "output_type": "stream",
          "text": [
            "1 + 1 est 2\n",
            "Fin\n"
          ],
          "name": "stdout"
        }
      ]
    },
    {
      "cell_type": "markdown",
      "metadata": {
        "id": "DuX2hpmbDtkO"
      },
      "source": [
        "Souvent, nous ne voulons pas imprimer uniquement les résultats intermédiaires, mais les stocker pour une utilisation ultérieure. Nous pouvons le faire en l'affectant à une **variable**."
      ]
    },
    {
      "cell_type": "code",
      "metadata": {
        "id": "QL0Ej14cDtkO",
        "colab": {
          "base_uri": "https://localhost:8080/"
        },
        "outputId": "f5588353-c0a3-42f0-9349-d99801f7207b"
      },
      "source": [
        "var_initiale = 1 + 1\n",
        "var_finale = var_initiale * 3.5\n",
        "\n",
        "print(var_finale)"
      ],
      "execution_count": 14,
      "outputs": [
        {
          "output_type": "stream",
          "text": [
            "7.0\n"
          ],
          "name": "stdout"
        }
      ]
    },
    {
      "cell_type": "markdown",
      "metadata": {
        "id": "M-0KzGEDDtkP"
      },
      "source": [
        "Ici, nous avons pu utiliser le résultat du premier calcul (stocké dans la variable `var_initiale`) dans notre deuxième calcul. Nous stockons le deuxième résultat dans `var_finale`, que nous pouvons imprimer à la fin de la cellule.\n",
        "\n",
        "Les variables nous aident à garder une trace des informations dont nous avons besoin pour exécuter avec succès un programme. Les variables peuvent être utilisées pour stocker une variété de types d'informations."
      ]
    },
    {
      "cell_type": "code",
      "metadata": {
        "id": "o5YmQ40vDtkQ",
        "colab": {
          "base_uri": "https://localhost:8080/"
        },
        "outputId": "f2772588-6581-4089-ba82-e14545d6cf20"
      },
      "source": [
        "mon_nom = 'Mghari'\n",
        "mon_age = 36\n",
        "mon_nombre_favori = 3.14\n",
        "aime_tennis = True\n",
        "\n",
        "print('Mon nom est', mon_nom)\n",
        "print('Mon age est', mon_age)\n",
        "print('Mon favori nombre est', mon_nombre_favori)\n",
        "print(\"J'aime le tennis:\", aime_tennis)"
      ],
      "execution_count": 18,
      "outputs": [
        {
          "output_type": "stream",
          "text": [
            "Mon nom est Mghari\n",
            "Mon age est 36\n",
            "Mon favori nombre est 3.14\n",
            "J'aime le tennis: True\n"
          ],
          "name": "stdout"
        }
      ]
    },
    {
      "cell_type": "markdown",
      "metadata": {
        "id": "Qw33waMjDtkQ"
      },
      "source": [
        "Puisque les variables peuvent être utilisées pour stocker autant de types d'informations, c'est une bonne idée de donner à ces variables des noms descriptifs comme je l'ai fait. Cela nous aide à écrire du code facile à lire, ce qui devient très utile lorsque nous essayons de trouver et de corriger des erreurs, ou de partager du code avec les autres."
      ]
    },
    {
      "cell_type": "code",
      "metadata": {
        "id": "MgrY1OlXDtkR",
        "colab": {
          "base_uri": "https://localhost:8080/"
        },
        "outputId": "e9a100dd-7c41-4a7a-c458-0fbfed1a10ee"
      },
      "source": [
        "print(type(mon_nom))\n",
        "print(type(mon_age))\n",
        "print(type(mon_nombre_favori))\n",
        "print(type(aime_tennis))"
      ],
      "execution_count": 19,
      "outputs": [
        {
          "output_type": "stream",
          "text": [
            "<class 'str'>\n",
            "<class 'int'>\n",
            "<class 'float'>\n",
            "<class 'bool'>\n"
          ],
          "name": "stdout"
        }
      ]
    },
    {
      "cell_type": "markdown",
      "metadata": {
        "id": "g9r3uaqDDtkS"
      },
      "source": [
        "**string** est une séquence de caractères. Un **int** a la même signification qu'en mathématiques (c'est-à-dire \"nombres entiers\"). Un **float** ou **un nombre à virgule flottante** fait référence à un nombre décimal (c'est-à-dire \"nombre réel\" en mathématiques). Un **bool** ou **boolean** fait référence à une variable qui est vraie(True) ou fausse(False).\n",
        "\n",
        "Ce ne sont là que quelques types de données que nous rencontrerons, et nous en verrons d'autres plus tard dans le cours.\n",
        "\n",
        "En Python, nous pouvons affecter n'importe quel type de données à une variable sans déclarer à l'avance le type. Autres langages de programmation ne se comportent pas de cette façon."
      ]
    },
    {
      "cell_type": "markdown",
      "metadata": {
        "id": "YmIL0i5ADtkT"
      },
      "source": [
        "### Exercises\n",
        "\n",
        "1. Définissez les variables `mon_nom` et` mon_age` avec des valeurs correspondant à votre propre nom et âge et affichez-les.\n",
        "1. Utilisez votre variable `mon_age` pour afficher votre âge dans 10 ans."
      ]
    },
    {
      "cell_type": "code",
      "metadata": {
        "id": "Pwhen2-NDtkT"
      },
      "source": [
        ""
      ],
      "execution_count": 8,
      "outputs": []
    },
    {
      "cell_type": "markdown",
      "metadata": {
        "id": "z6SrVuYgDtkU"
      },
      "source": [
        "## Functions\n",
        "\n",
        "Many programs react to user input. Functions allow us to define a task we would like the computer to carry out based on input. A simple function in Python might look like this:"
      ]
    },
    {
      "cell_type": "code",
      "metadata": {
        "id": "YSw_uotmDtkU"
      },
      "source": [
        "def carre(nombre):\n",
        "    return nombre**2"
      ],
      "execution_count": 23,
      "outputs": []
    },
    {
      "cell_type": "markdown",
      "metadata": {
        "id": "nhQgQQ_pDtkV"
      },
      "source": [
        "Nous définissons les fonctions à l'aide du mot-clé `def`.  Puis le nom de la fonction, qui est `carre` dans ce cas. Nous plaçons ensuite les paramétres de la fonction entre parenthèses, dans ce cas `nombre`. Nous utilisons `:` pour dire à Python que nous sommes prêts à écrire le corps de la fonction.\n",
        "\n",
        "Dans ce cas, le corps de la fonction est très simple; nous retournons le carré de `nombre` (nous utilisons `**`pour les exposants en Python). Le mot-clé `return` signale que la fonction générera une sortie. Elle marque la fin d'une fonction.\n",
        "\n",
        "Voyons notre fonction en action:"
      ]
    },
    {
      "cell_type": "code",
      "metadata": {
        "id": "Ksp7E51gDtkV",
        "colab": {
          "base_uri": "https://localhost:8080/"
        },
        "outputId": "2a324228-2e03-41ce-98bc-df43977267b7"
      },
      "source": [
        "# On peut sauvegarder la sortie de la fonction dans une variable\n",
        "c = carre(3.5)\n",
        "\n",
        "print(c)\n",
        "\n",
        "n = 4\n",
        "# On peut aussi utiliser directement la sortie de la fonction\n",
        "print(carre(n))"
      ],
      "execution_count": 25,
      "outputs": [
        {
          "output_type": "stream",
          "text": [
            "12.25\n",
            "16\n"
          ],
          "name": "stdout"
        }
      ]
    },
    {
      "cell_type": "markdown",
      "metadata": {
        "id": "oFP1cB3TDtkW"
      },
      "source": [
        "Nous pouvons passer différents types d'entrées à la fonction `carre`. Lorsque nous passions un `float` à `carre`, il retournait un `float`. Lorsque nous passions un `int`, `carre` retournait un `int`."
      ]
    },
    {
      "cell_type": "code",
      "metadata": {
        "id": "BY4Q6M4CDtkX",
        "colab": {
          "base_uri": "https://localhost:8080/",
          "height": 230
        },
        "outputId": "c739d801-7ecd-4752-d421-a3fe75e0cb17"
      },
      "source": [
        "print(carre('banana'))"
      ],
      "execution_count": 31,
      "outputs": [
        {
          "output_type": "error",
          "ename": "TypeError",
          "evalue": "ignored",
          "traceback": [
            "\u001b[0;31m---------------------------------------------------------------------------\u001b[0m",
            "\u001b[0;31mTypeError\u001b[0m                                 Traceback (most recent call last)",
            "\u001b[0;32m<ipython-input-31-b86e04d87598>\u001b[0m in \u001b[0;36m<module>\u001b[0;34m()\u001b[0m\n\u001b[0;32m----> 1\u001b[0;31m \u001b[0mprint\u001b[0m\u001b[0;34m(\u001b[0m\u001b[0mcarre\u001b[0m\u001b[0;34m(\u001b[0m\u001b[0;34m'banana'\u001b[0m\u001b[0;34m)\u001b[0m\u001b[0;34m)\u001b[0m\u001b[0;34m\u001b[0m\u001b[0;34m\u001b[0m\u001b[0m\n\u001b[0m",
            "\u001b[0;32m<ipython-input-23-010b082f4cb8>\u001b[0m in \u001b[0;36mcarre\u001b[0;34m(nombre)\u001b[0m\n\u001b[1;32m      1\u001b[0m \u001b[0;32mdef\u001b[0m \u001b[0mcarre\u001b[0m\u001b[0;34m(\u001b[0m\u001b[0mnombre\u001b[0m\u001b[0;34m)\u001b[0m\u001b[0;34m:\u001b[0m\u001b[0;34m\u001b[0m\u001b[0;34m\u001b[0m\u001b[0m\n\u001b[0;32m----> 2\u001b[0;31m     \u001b[0;32mreturn\u001b[0m \u001b[0mnombre\u001b[0m\u001b[0;34m**\u001b[0m\u001b[0;36m2\u001b[0m\u001b[0;34m\u001b[0m\u001b[0;34m\u001b[0m\u001b[0m\n\u001b[0m",
            "\u001b[0;31mTypeError\u001b[0m: unsupported operand type(s) for ** or pow(): 'str' and 'int'"
          ]
        }
      ]
    },
    {
      "cell_type": "markdown",
      "metadata": {
        "id": "qkbztsnwDtkX"
      },
      "source": [
        "Nous avons rencontré une erreur car `banana` est une chaîne de caractères, pas un nombre. Nous devons veiller à ce que l'entrée d'une fonction ait un sens pour la fonction.\n",
        "### Exercises\n",
        "\n",
        "1. Ecrit une fonction qui retourn un cubed'un nombre.\n",
        "2. Ecrit une fonction, `dire_Hello` qui prend une variable `nom` comme parametre et affiche `Hello nom`."
      ]
    }
  ]
}